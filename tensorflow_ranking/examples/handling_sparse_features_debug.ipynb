{
 "cells": [
  {
   "cell_type": "markdown",
   "metadata": {
    "colab_type": "text",
    "id": "MHkcIl4E-Fgf",
    "slideshow": {
     "slide_type": "slide"
    }
   },
   "source": [
    "# Tutorial: TF-Ranking for sparse features\n",
    "\n"
   ]
  },
  {
   "cell_type": "markdown",
   "metadata": {
    "colab_type": "text",
    "id": "V8tMYn22vtDV",
    "slideshow": {
     "slide_type": "slide"
    }
   },
   "source": [
    "This tutorial is an end-to-end walkthrough of training a TensorFlow Ranking (TF-Ranking) neural network model which incorporates sparse textual features.\n",
    "\n",
    "TF-Ranking is a library for solving large scale ranking problems using deep learning. TF-Ranking can handle heterogeneous dense and sparse features, and scales up to millions of data points. For more details, please read the technical paper published on [arXiv](https://arxiv.org/abs/1812.00073).\n",
    "\n",
    "<table class=\"tfo-notebook-buttons\" align=\"left\">\n",
    "  <td>\n",
    "    <a target=\"_blank\" href=\"https://colab.research.google.com/github/tensorflow/ranking/blob/master/tensorflow_ranking/examples/handling_sparse_features.ipynb\"><img src=\"https://www.tensorflow.org/images/colab_logo_32px.png\" />Run in Google Colab</a>\n",
    "  </td>\n",
    "  <td>\n",
    "    <a target=\"_blank\" href=\"https://github.com/tensorflow/ranking/blob/master/tensorflow_ranking/examples/handling_sparse_features.ipynb\"><img src=\"https://www.tensorflow.org/images/GitHub-Mark-32px.png\" />View source on GitHub</a>\n",
    "  </td>\n",
    "</table>"
   ]
  },
  {
   "cell_type": "markdown",
   "metadata": {
    "colab_type": "text",
    "id": "xmGZHWkdMEdB",
    "slideshow": {
     "slide_type": "slide"
    }
   },
   "source": [
    "## Motivation\n",
    "\n",
    "Learning to Rank (LTR) deals with learning to optimally order a list of examples, given some context. Consider Search to be a running example, where examples are documents, and context is the query.\n",
    "\n",
    "These models are usually trained using user relevance feedback, which can be explicit (human ratings) or implicit (clicks). \n",
    "\n",
    "This tutorial demonstrates how to build ranking estimators over sparse features, such as textual data. Textual data is prevalent in several settings for ranking, and plays a significant role is relevance judgment by a user.\n",
    "\n",
    "In Search and Question Answering tasks, queries and document titles are examples of textual information. In Recommendation task, the titles of the items and their descriptions contain textual information.\n",
    "\n",
    "Hence it is important for LTR models to effectively incorporate textual features."
   ]
  },
  {
   "cell_type": "markdown",
   "metadata": {
    "colab_type": "text",
    "id": "A5A2UcQM1b7S",
    "slideshow": {
     "slide_type": "slide"
    }
   },
   "source": [
    "## Task: Ranking over Question-Answering data\n",
    "\n"
   ]
  },
  {
   "cell_type": "markdown",
   "metadata": {
    "colab_type": "text",
    "id": "JNilCoqq1jJn",
    "slideshow": {
     "slide_type": "slide"
    }
   },
   "source": [
    "### ANTIQUE: A Question Answering Dataset\n",
    "\n",
    "For the purpose of this tutorial, we consider ranking problem over ANTIQUE, a question-answering dataset Given a query, and a list of answers, the objective it to maximize a rank related metric (say NDCG).\n",
    "\n",
    "[ANTIQUE](http://hamedz.ir/resources/) is a publicly available dataset for open-domain non-factoid question answering, collected over Yahoo! answers.\n",
    "\n",
    "Each question has a list of answers, whose relevance are graded on a scale of 1-5.\n",
    "\n",
    "The list size can vary depending on the query, so we use a fixed \"list size\" of 50, where the list is either truncated or padded with dummy values.\n",
    "\n",
    "This dataset is a suitable one for learning-to-rank scenario. The dataset is split into 2206 queries for training and 200 queries for testing. For more details, please read the tehcnical paper on [arXiv](https://arxiv.org/pdf/1905.08957.pdf)."
   ]
  },
  {
   "cell_type": "markdown",
   "metadata": {
    "colab_type": "text",
    "id": "sIxFuiy5qh6L",
    "slideshow": {
     "slide_type": "-"
    }
   },
   "source": [
    "\n",
    "Download training, test data and vocabulary file."
   ]
  },
  {
   "cell_type": "code",
   "execution_count": 0,
   "metadata": {
    "colab": {},
    "colab_type": "code",
    "id": "Mwxtsi4wqoOJ",
    "slideshow": {
     "slide_type": "-"
    }
   },
   "outputs": [],
   "source": [
    "!wget -O \"/tmp/vocab.txt\" \"http://ciir.cs.umass.edu/downloads/Antique/tf-ranking/vocab.txt\"\n",
    "!wget -O \"/tmp/train.tfrecords\" \"http://ciir.cs.umass.edu/downloads/Antique/tf-ranking/train.tfrecords\"\n",
    "!wget -O \"/tmp/test.tfrecords\" \"http://ciir.cs.umass.edu/downloads/Antique/tf-ranking/test.tfrecords\""
   ]
  },
  {
   "cell_type": "markdown",
   "metadata": {
    "colab_type": "text",
    "id": "T7L-IOmOWm3s",
    "slideshow": {
     "slide_type": "-"
    }
   },
   "source": [
    "Next, we discuss data formats in more detail, and show how to generate and store dummy ranking data."
   ]
  },
  {
   "cell_type": "markdown",
   "metadata": {
    "colab_type": "text",
    "id": "dXA_7oIRWKd9",
    "slideshow": {
     "slide_type": "slide"
    }
   },
   "source": [
    "## Data Formats\n"
   ]
  },
  {
   "cell_type": "markdown",
   "metadata": {
    "colab_type": "text",
    "id": "6tuna6Td3_UO"
   },
   "source": [
    "### Data Formats for Ranking\n",
    "\n",
    "For representing ranking data, [protobuffers](https://developers.google.com/protocol-buffers/) are extensible structures suitable for storing data in a serialized format, either locally or in a distributed manner.\n",
    "\n",
    "Ranking usually consists of features corresponding to each of the examples being sorted. In addition, features related to query, user or session are also useful for ranking. We refer to these as context features, as these are independent of the examples.\n",
    "\n",
    "We use the popular [tf.Example](https://www.tensorflow.org/tutorials/load_data/tf_records) proto to represent the features for context, and each of the examples. We create a new format for ranking data, **Example in Example** (EIE), to store context as a serialized tf.Example proto and the list of examples to be ranked as a list of serialized tf.Example protos."
   ]
  },
  {
   "cell_type": "markdown",
   "metadata": {
    "colab_type": "text",
    "id": "T8u0mpFChSQ6",
    "slideshow": {
     "slide_type": "slide"
    }
   },
   "source": [
    "Let us create some dummy data in EIE format. We will use this dummy data show how the proto looks like. This dummy data will also be useful to visualize the outputs of each of the cells."
   ]
  },
  {
   "cell_type": "code",
   "execution_count": 0,
   "metadata": {
    "colab": {},
    "colab_type": "code",
    "id": "sVX-rRP3igAA",
    "slideshow": {
     "slide_type": "-"
    }
   },
   "outputs": [],
   "source": [
    "from google.protobuf import text_format\n",
    "import tensorflow as tf\n",
    "\n",
    "CONTEXT = text_format.Parse(\n",
    "    \"\"\"\n",
    "    features {\n",
    "      feature {\n",
    "        key: \"query_tokens\"\n",
    "        value { bytes_list { value: [\"this\", \"is\", \"a\", \"relevant\", \"question\"] } }\n",
    "      }\n",
    "    }\"\"\", tf.train.Example())"
   ]
  },
  {
   "cell_type": "code",
   "execution_count": 0,
   "metadata": {
    "colab": {
     "base_uri": "https://localhost:8080/",
     "height": 272
    },
    "colab_type": "code",
    "id": "lAwvkR5ukB5C",
    "outputId": "e5260314-6ab6-471f-e0e8-d72b1cfc2ef2",
    "slideshow": {
     "slide_type": "slide"
    }
   },
   "outputs": [
    {
     "name": "stdout",
     "output_type": "stream",
     "text": [
      "features {\n",
      "  feature {\n",
      "    key: \"query_tokens\"\n",
      "    value {\n",
      "      bytes_list {\n",
      "        value: \"this\"\n",
      "        value: \"is\"\n",
      "        value: \"a\"\n",
      "        value: \"relevant\"\n",
      "        value: \"question\"\n",
      "      }\n",
      "    }\n",
      "  }\n",
      "}\n",
      "\n"
     ]
    }
   ],
   "source": [
    "print(CONTEXT)"
   ]
  },
  {
   "cell_type": "code",
   "execution_count": 0,
   "metadata": {
    "colab": {},
    "colab_type": "code",
    "id": "56xHxIr4ViIp",
    "slideshow": {
     "slide_type": "slide"
    }
   },
   "outputs": [],
   "source": [
    "EXAMPLES = [\n",
    "    text_format.Parse(\n",
    "    \"\"\"\n",
    "    features {\n",
    "      feature {\n",
    "        key: \"document_tokens\"\n",
    "        value { bytes_list { value: [\"this\", \"is\", \"a\", \"relevant\", \"answer\"] } }\n",
    "      }\n",
    "      feature {\n",
    "        key: \"relevance\"\n",
    "        value { int64_list { value: 5 } }\n",
    "      }\n",
    "    }\"\"\", tf.train.Example()),\n",
    "    text_format.Parse(\n",
    "        \"\"\"\n",
    "    features {\n",
    "      feature {\n",
    "        key: \"document_tokens\"\n",
    "        value { bytes_list { value: [\"irrelevant\", \"data\"] } }\n",
    "      }\n",
    "      feature {\n",
    "        key: \"relevance\"\n",
    "        value { int64_list { value: 1 } }\n",
    "      }\n",
    "    }\"\"\", tf.train.Example()),\n",
    "]"
   ]
  },
  {
   "cell_type": "code",
   "execution_count": 0,
   "metadata": {
    "colab": {
     "base_uri": "https://localhost:8080/",
     "height": 731
    },
    "colab_type": "code",
    "id": "i6Z8CNULkdbc",
    "outputId": "03268f7b-4c9b-4553-b877-5eb5262c6c0b",
    "slideshow": {
     "slide_type": "slide"
    }
   },
   "outputs": [
    {
     "name": "stdout",
     "output_type": "stream",
     "text": [
      "[features {\n",
      "  feature {\n",
      "    key: \"document_tokens\"\n",
      "    value {\n",
      "      bytes_list {\n",
      "        value: \"this\"\n",
      "        value: \"is\"\n",
      "        value: \"a\"\n",
      "        value: \"relevant\"\n",
      "        value: \"answer\"\n",
      "      }\n",
      "    }\n",
      "  }\n",
      "  feature {\n",
      "    key: \"relevance\"\n",
      "    value {\n",
      "      int64_list {\n",
      "        value: 5\n",
      "      }\n",
      "    }\n",
      "  }\n",
      "}\n",
      ", features {\n",
      "  feature {\n",
      "    key: \"document_tokens\"\n",
      "    value {\n",
      "      bytes_list {\n",
      "        value: \"irrelevant\"\n",
      "        value: \"data\"\n",
      "      }\n",
      "    }\n",
      "  }\n",
      "  feature {\n",
      "    key: \"relevance\"\n",
      "    value {\n",
      "      int64_list {\n",
      "        value: 1\n",
      "      }\n",
      "    }\n",
      "  }\n",
      "}\n",
      "]\n"
     ]
    }
   ],
   "source": [
    "print(EXAMPLES)"
   ]
  },
  {
   "cell_type": "markdown",
   "metadata": {
    "colab_type": "text",
    "id": "UX4PBLYRIrlE",
    "slideshow": {
     "slide_type": "slide"
    }
   },
   "source": [
    "Create data in EIE format and save as dummy data."
   ]
  },
  {
   "cell_type": "code",
   "execution_count": 0,
   "metadata": {
    "colab": {},
    "colab_type": "code",
    "id": "E0KGFVkQiF9z",
    "slideshow": {
     "slide_type": "-"
    }
   },
   "outputs": [],
   "source": [
    "def _example_in_example(context, examples):\n",
    "  \"\"\"Returns an Example in Example.\"\"\"\n",
    "  example_in_example = tf.train.Example()\n",
    "  example_in_example.features.feature[\n",
    "      \"serialized_context\"].bytes_list.value.append(context.SerializeToString())\n",
    "  for ex in examples:\n",
    "    example_in_example.features.feature[\n",
    "        \"serialized_examples\"].bytes_list.value.append(ex.SerializeToString())\n",
    "  return example_in_example\n",
    "\n",
    "serialized_example_in_examples = [_example_in_example(\n",
    "    CONTEXT, EXAMPLES).SerializeToString()] * 100\n",
    "\n",
    "dummy_data_file = \"/tmp/dummy_data.tfrecord\"\n",
    "if tf.io.gfile.exists(dummy_data_file):\n",
    "  tf.io.gfile.remove(dummy_data_file)\n",
    "\n",
    "with tf.io.TFRecordWriter(dummy_data_file) as writer:\n",
    "  for s in serialized_example_in_examples:\n",
    "        writer.write(s)"
   ]
  },
  {
   "cell_type": "markdown",
   "metadata": {
    "colab_type": "text",
    "id": "d_PrxvnLTO1i",
    "slideshow": {
     "slide_type": "slide"
    }
   },
   "source": [
    "### Dependencies and Global Variables\n",
    "\n",
    "Let us start by importing libraries that will be used throughout this Notebook. We also enable the \"eager execution\" mode for convenience and demonstration purposes."
   ]
  },
  {
   "cell_type": "code",
   "execution_count": 0,
   "metadata": {
    "colab": {},
    "colab_type": "code",
    "id": "kXPP5mzZswio",
    "slideshow": {
     "slide_type": "-"
    }
   },
   "outputs": [],
   "source": [
    "import six\n",
    "import os\n",
    "import numpy as np\n",
    "\n",
    "try:\n",
    "  import tensorflow as tf\n",
    "except ImportError:\n",
    "  print('Installing TensorFlow.  This will take a minute, ignore the warnings.')\n",
    "  !pip install -q tensorflow\n",
    "  import tensorflow as tf\n",
    "\n",
    "try:\n",
    "  import tensorflow_ranking as tfr\n",
    "except ImportError:\n",
    "    !pip install -q tensorflow_ranking\n",
    "    import tensorflow_ranking as tfr\n",
    "\n",
    "tf.enable_eager_execution()\n",
    "tf.executing_eagerly()\n",
    "tf.set_random_seed(1234)\n",
    "tf.logging.set_verbosity(tf.logging.INFO)"
   ]
  },
  {
   "cell_type": "markdown",
   "metadata": {
    "colab_type": "text",
    "id": "0B09XkzZYKLV",
    "slideshow": {
     "slide_type": "slide"
    }
   },
   "source": [
    "Here we define the train and test paths, along with model hyperparameters.\n",
    "\n"
   ]
  },
  {
   "cell_type": "code",
   "execution_count": 0,
   "metadata": {
    "colab": {},
    "colab_type": "code",
    "id": "SDEhIqPSYJS1",
    "slideshow": {
     "slide_type": "-"
    }
   },
   "outputs": [],
   "source": [
    "# Store the paths to files containing training and test instances.\n",
    "_TRAIN_DATA_PATH = \"/tmp/train.tfrecords\"\n",
    "_TEST_DATA_PATH = \"/tmp/test.tfrecords\"\n",
    "\n",
    "# Store the vocabulary path for query and document tokens.\n",
    "_VOCAB_PATH = \"/tmp/vocab.txt\"\n",
    "\n",
    "# The maximum number of documents per query in the dataset.\n",
    "# Document lists are padded or truncated to this size.\n",
    "_LIST_SIZE = 50\n",
    "\n",
    "# The document relevance label.\n",
    "_LABEL_FEATURE = \"relevance\"\n",
    "\n",
    "# Padding labels are set negative so that the corresponding examples can be\n",
    "# ignored in loss and metrics.\n",
    "_PADDING_LABEL = -1\n",
    "\n",
    "# Learning rate for optimizer.\n",
    "_LEARNING_RATE = 0.05\n",
    "\n",
    "# Parameters to the scoring function.\n",
    "_BATCH_SIZE = 32\n",
    "_HIDDEN_LAYER_DIMS = [\"64\", \"32\", \"16\"]\n",
    "_DROPOUT_RATE = 0.8\n",
    "_GROUP_SIZE = 1  # Pointwise scoring.\n",
    "\n",
    "# Location of model directory and number of training steps.\n",
    "_MODEL_DIR = \"/tmp/ranking_model_dir\"\n",
    "_NUM_TRAIN_STEPS = 15 * 1000"
   ]
  },
  {
   "cell_type": "markdown",
   "metadata": {
    "colab_type": "text",
    "id": "tFbFBTUh9WXf",
    "slideshow": {
     "slide_type": "slide"
    }
   },
   "source": [
    "## Components of a Ranking Estimator\n",
    "\n"
   ]
  },
  {
   "cell_type": "markdown",
   "metadata": {
    "colab_type": "text",
    "id": "pSIfzuaKKOa8",
    "slideshow": {
     "slide_type": "slide"
    }
   },
   "source": [
    "The overall components of a Ranking Estimator are shown below.\n",
    "\n",
    "The key components of the library are:\n",
    "\n",
    "1.   Input Reader\n",
    "2.   Tranform Function\n",
    "3.   Scoring Function\n",
    "4.   Ranking Losses\n",
    "5.   Ranking Metrics\n",
    "6.   Ranking Head\n",
    "7.   Model Builder\n",
    "\n",
    "These are described in more details in the following sections."
   ]
  },
  {
   "cell_type": "markdown",
   "metadata": {
    "colab_type": "text",
    "id": "Pohq1eKbo4TD",
    "slideshow": {
     "slide_type": "slide"
    }
   },
   "source": [
    "### TensorFlow Ranking Architecture\n",
    "\n",
    "![tf_ranking_arch](https://user-images.githubusercontent.com/3262617/60061785-5f107980-96ab-11e9-9849-ace2d117220f.png)\n"
   ]
  },
  {
   "cell_type": "markdown",
   "metadata": {
    "colab_type": "text",
    "id": "aQ-VTA56sOTA",
    "slideshow": {
     "slide_type": "slide"
    }
   },
   "source": [
    "### Specifying Features via Feature Columns\n",
    "\n",
    "[Feature Columns](https://www.tensorflow.org/guide/feature_columns) are TensorFlow abstractions that are used to capture rich information about each feature. It allows for easy transformations for a diverse range of raw features and for interfacing with Estimators.\n",
    "\n",
    "Consistent with our input formats for ranking, such as EIE format, we create feature columns for context features and example features."
   ]
  },
  {
   "cell_type": "code",
   "execution_count": 0,
   "metadata": {
    "colab": {},
    "colab_type": "code",
    "id": "I0TWSuMZ70eI",
    "slideshow": {
     "slide_type": "-"
    }
   },
   "outputs": [],
   "source": [
    "_EMBEDDING_DIMENSION = 20\n",
    "\n",
    "def context_feature_columns():\n",
    "  \"\"\"Returns context feature names to column definitions.\"\"\"\n",
    "  sparse_column = tf.feature_column.categorical_column_with_vocabulary_file(\n",
    "      key=\"query_tokens\",\n",
    "      vocabulary_file=_VOCAB_PATH)\n",
    "  query_embedding_column = tf.feature_column.embedding_column(\n",
    "      sparse_column, _EMBEDDING_DIMENSION)\n",
    "  return {\"query_tokens\": query_embedding_column}\n",
    "\n",
    "def example_feature_columns():\n",
    "  \"\"\"Returns the example feature columns.\"\"\"\n",
    "  sparse_column = tf.feature_column.categorical_column_with_vocabulary_file(\n",
    "      key=\"document_tokens\",\n",
    "      vocabulary_file=_VOCAB_PATH)\n",
    "  document_embedding_column = tf.feature_column.embedding_column(\n",
    "      sparse_column, _EMBEDDING_DIMENSION)\n",
    "  return {\"document_tokens\": document_embedding_column}"
   ]
  },
  {
   "cell_type": "markdown",
   "metadata": {
    "colab_type": "text",
    "id": "ZGJ6rRJyZmiB",
    "slideshow": {
     "slide_type": "slide"
    }
   },
   "source": [
    "### Reading Input Data using *input_fn*\n",
    "\n",
    "The input reader reads in data from persistent storage to produce raw dense and sparse tensors of appropriate type for each feature. Example features are represented by 3-D tensors (where dimensions correspond to queries, examples and feature values). Context features are represented by 2-D tensors (where dimensions correspond to queries and feature values)."
   ]
  },
  {
   "cell_type": "code",
   "execution_count": 0,
   "metadata": {
    "colab": {},
    "colab_type": "code",
    "id": "itrqULz5lubN",
    "slideshow": {
     "slide_type": "-"
    }
   },
   "outputs": [],
   "source": [
    "def input_fn(path, list_size=_LIST_SIZE, batch_size=_BATCH_SIZE, num_epochs=None):\n",
    "  context_feature_spec = tf.feature_column.make_parse_example_spec(\n",
    "        context_feature_columns().values())\n",
    "  label_column = tf.feature_column.numeric_column(\n",
    "        _LABEL_FEATURE, dtype=tf.int64, default_value=_PADDING_LABEL)\n",
    "  example_feature_spec = tf.feature_column.make_parse_example_spec(\n",
    "        list(example_feature_columns().values()) + [label_column])\n",
    "  dataset = tfr.data.build_ranking_dataset(\n",
    "        file_pattern=path,\n",
    "        data_format=tfr.data.EIE,\n",
    "        batch_size=batch_size,\n",
    "        list_size=list_size,\n",
    "        context_feature_spec=context_feature_spec,\n",
    "        example_feature_spec=example_feature_spec,\n",
    "        reader=tf.data.TFRecordDataset,\n",
    "        shuffle=False,\n",
    "        num_epochs=num_epochs)\n",
    "  features = tf.data.make_one_shot_iterator(dataset).get_next()\n",
    "  label = tf.squeeze(features.pop(_LABEL_FEATURE), axis=2)\n",
    "  label = tf.cast(label, tf.float32)\n",
    "  return features, label"
   ]
  },
  {
   "cell_type": "markdown",
   "metadata": {
    "colab_type": "text",
    "id": "rKjH0aJpI97N",
    "slideshow": {
     "slide_type": "slide"
    }
   },
   "source": [
    "The output of this function over dummy data is shown below.\n",
    "\n"
   ]
  },
  {
   "cell_type": "code",
   "execution_count": 0,
   "metadata": {
    "colab": {},
    "colab_type": "code",
    "id": "9c_KolvMlcDX",
    "slideshow": {
     "slide_type": "-"
    }
   },
   "outputs": [],
   "source": [
    "features, label = input_fn(\"/tmp/dummy_data.tfrecord\", list_size=2, batch_size=2, num_epochs=1)"
   ]
  },
  {
   "cell_type": "code",
   "execution_count": 0,
   "metadata": {
    "colab": {
     "base_uri": "https://localhost:8080/",
     "height": 68
    },
    "colab_type": "code",
    "id": "g0iWf4JI48ME",
    "outputId": "e66f914a-477c-49d0-d5ee-3737d779a62d",
    "slideshow": {
     "slide_type": "-"
    }
   },
   "outputs": [
    {
     "name": "stdout",
     "output_type": "stream",
     "text": [
      "Shape of query_tokens Tensor is: (2, 5)  # batch_size, feature_size.\n",
      "Shape of document_tokens Tensor is: (2, 2, 5)  # batch_size, list_size, feature_size.\n",
      "Shape of label Tensor is: (2, 2)  # batch_size, list_size.\n"
     ]
    }
   ],
   "source": [
    "print(\"Shape of query_tokens Tensor is: {}  # batch_size, feature_size.\".format(features[\"query_tokens\"].shape))\n",
    "print(\"Shape of document_tokens Tensor is: {}  # batch_size, list_size, feature_size.\".format(features[\"document_tokens\"].shape))\n",
    "print(\"Shape of label Tensor is: {}  # batch_size, list_size.\".format(label.shape))"
   ]
  },
  {
   "cell_type": "markdown",
   "metadata": {
    "colab_type": "text",
    "id": "TXNUKT2s8bsQ",
    "slideshow": {
     "slide_type": "slide"
    }
   },
   "source": [
    "### Feature Transformations with *transform_fn*\n",
    "\n",
    "The transform function takes in the raw dense or sparse features from the input reader, applies suitable transformations to return dense representations for each feature. This is important before passing these features to a neural network, as neural networks layers usually take dense features as inputs.\n",
    "\n",
    "The transform function handles any custom feature transformations defined by the user. For handling sparse features, like text data, we provide an easy utlity to create shared embeddings, based on the feature columns."
   ]
  },
  {
   "cell_type": "code",
   "execution_count": 0,
   "metadata": {
    "colab": {},
    "colab_type": "code",
    "id": "zQG5UXub82SB",
    "slideshow": {
     "slide_type": "-"
    }
   },
   "outputs": [],
   "source": [
    "def make_transform_fn():\n",
    "  def _transform_fn(features, mode):\n",
    "    \"\"\"Defines transform_fn.\"\"\"\n",
    "    example_name = next(six.iterkeys(example_feature_columns()))\n",
    "    input_size = tf.shape(input=features[example_name])[1]\n",
    "    context_features, example_features = tfr.feature.encode_listwise_features(\n",
    "        features=features,\n",
    "        input_size=input_size,\n",
    "        context_feature_columns=context_feature_columns(),\n",
    "        example_feature_columns=example_feature_columns(),\n",
    "        mode=mode,\n",
    "        scope=\"transform_layer\")\n",
    "\n",
    "    return context_features, example_features\n",
    "  return _transform_fn"
   ]
  },
  {
   "cell_type": "markdown",
   "metadata": {
    "colab_type": "text",
    "id": "M02UF3HkV9o5",
    "slideshow": {
     "slide_type": "slide"
    }
   },
   "source": [
    "The output of this function over dummy data is shown below."
   ]
  },
  {
   "cell_type": "code",
   "execution_count": 0,
   "metadata": {
    "colab": {},
    "colab_type": "code",
    "id": "rAOycYzu4_kc",
    "slideshow": {
     "slide_type": "-"
    }
   },
   "outputs": [],
   "source": [
    "context_features, example_features = make_transform_fn()(features, mode=\"test\")"
   ]
  },
  {
   "cell_type": "code",
   "execution_count": 0,
   "metadata": {
    "colab": {
     "base_uri": "https://localhost:8080/",
     "height": 51
    },
    "colab_type": "code",
    "id": "GiEwhFaN5Naw",
    "outputId": "167f9fee-33e9-4b0f-9e39-09f044d57fca",
    "slideshow": {
     "slide_type": "-"
    }
   },
   "outputs": [
    {
     "name": "stdout",
     "output_type": "stream",
     "text": [
      "Shape of query_tokens Tensor is: (2, 20)  # batch_size, embedding_dimension.\n",
      "Shape of document_tokens Tensor is: (2, 2, 20) # batch_size, list_size, embedding_dimension.\n"
     ]
    }
   ],
   "source": [
    "print(\"Shape of query_tokens Tensor is: {}  # batch_size, embedding_dimension.\".format(context_features[\"query_tokens\"].shape))\n",
    "print(\"Shape of document_tokens Tensor is: {} # batch_size, list_size, embedding_dimension.\".format(example_features[\"document_tokens\"].shape))"
   ]
  },
  {
   "cell_type": "markdown",
   "metadata": {
    "colab_type": "text",
    "id": "QdVFrZBIeWXL",
    "slideshow": {
     "slide_type": "slide"
    }
   },
   "source": [
    "### Feature Interactions using *scoring_fn*\n",
    "\n",
    "Next, we turn to the scoring function which is arguably at the heart of a TF Ranking model. The idea is to compute a relevance score for a (set of) query-document pair(s). The TF-Ranking model will use training data to learn this function.\n",
    "\n",
    "Here we formulate a scoring function using a feed forward network. The function takes the features of a single example (i.e., query-document pair) and produces a relevance score."
   ]
  },
  {
   "cell_type": "code",
   "execution_count": 0,
   "metadata": {
    "colab": {},
    "colab_type": "code",
    "id": "B7Ft1i2oieEY",
    "slideshow": {
     "slide_type": "slide"
    }
   },
   "outputs": [],
   "source": [
    "def make_score_fn():\n",
    "  \"\"\"Returns a scoring function to build `EstimatorSpec`.\"\"\"\n",
    "\n",
    "  def _score_fn(context_features, group_features, mode, params, config):\n",
    "    \"\"\"Defines the network to score a group of documents.\"\"\"\n",
    "    with tf.compat.v1.name_scope(\"input_layer\"):\n",
    "      context_input = [\n",
    "          tf.compat.v1.layers.flatten(context_features[name])\n",
    "          for name in sorted(context_feature_columns())\n",
    "      ]\n",
    "      group_input = [\n",
    "          tf.compat.v1.layers.flatten(group_features[name])\n",
    "          for name in sorted(example_feature_columns())\n",
    "      ]\n",
    "      input_layer = tf.concat(context_input + group_input, 1)\n",
    "\n",
    "    is_training = (mode == tf.estimator.ModeKeys.TRAIN)\n",
    "    cur_layer = input_layer\n",
    "    cur_layer = tf.compat.v1.layers.batch_normalization(\n",
    "      cur_layer,\n",
    "      training=is_training,\n",
    "      momentum=0.99)\n",
    "\n",
    "    for i, layer_width in enumerate(int(d) for d in _HIDDEN_LAYER_DIMS):\n",
    "      cur_layer = tf.compat.v1.layers.dense(cur_layer, units=layer_width)\n",
    "      cur_layer = tf.compat.v1.layers.batch_normalization(\n",
    "        cur_layer,\n",
    "        training=is_training,\n",
    "        momentum=0.99)\n",
    "      cur_layer = tf.nn.relu(cur_layer)\n",
    "      cur_layer = tf.compat.v1.layers.dropout(\n",
    "          inputs=cur_layer, rate=_DROPOUT_RATE, training=is_training)\n",
    "    logits = tf.compat.v1.layers.dense(cur_layer, units=_GROUP_SIZE)\n",
    "    return logits\n",
    "\n",
    "  return _score_fn"
   ]
  },
  {
   "cell_type": "markdown",
   "metadata": {
    "colab_type": "text",
    "id": "binAdUISKW8M",
    "slideshow": {
     "slide_type": "slide"
    }
   },
   "source": [
    "The output of this function over dummy data is shown below."
   ]
  },
  {
   "cell_type": "code",
   "execution_count": 0,
   "metadata": {
    "colab": {},
    "colab_type": "code",
    "id": "Q8uv3i0-5hnI",
    "slideshow": {
     "slide_type": "-"
    }
   },
   "outputs": [],
   "source": [
    "example_features_1 = { \"document_tokens\" : example_features[\"document_tokens\"][:,0:1,:]}\n",
    "example_features_2 = { \"document_tokens\" : example_features[\"document_tokens\"][:,1:2,:]}\n",
    "score_fn = make_score_fn()\n",
    "score_1 = score_fn(context_features, example_features_1, mode=\"test\", params=None, config=None)\n",
    "score_2 = score_fn(context_features, example_features_2, mode=\"test\", params=None, config=None)\n",
    "scores = tf.concat([score_1, score_2], axis=1)"
   ]
  },
  {
   "cell_type": "code",
   "execution_count": 0,
   "metadata": {
    "colab": {
     "base_uri": "https://localhost:8080/",
     "height": 34
    },
    "colab_type": "code",
    "id": "KIf7J5FFHkC2",
    "outputId": "839e594a-baeb-4ad6-b755-76fc3051c130",
    "slideshow": {
     "slide_type": "-"
    }
   },
   "outputs": [
    {
     "name": "stdout",
     "output_type": "stream",
     "text": [
      "Shape of predicted scores is: (2, 2)  # batch_size, list_size.\n"
     ]
    }
   ],
   "source": [
    "print(\"Shape of predicted scores is: {}  # batch_size, list_size.\".format(scores.shape))"
   ]
  },
  {
   "cell_type": "markdown",
   "metadata": {
    "colab_type": "text",
    "id": "xQlrS6uB8_zl",
    "slideshow": {
     "slide_type": "slide"
    }
   },
   "source": [
    "## Losses, Metrics and Ranking Head"
   ]
  },
  {
   "cell_type": "markdown",
   "metadata": {
    "colab_type": "text",
    "id": "e0gt2bu7kbtS",
    "slideshow": {
     "slide_type": "slide"
    }
   },
   "source": [
    "### Evaluation Metrics\n",
    "\n",
    "We have provided an implementation of several popular Information Retrieval evaluation metrics in the TF Ranking library, which are shown [here](https://github.com/tensorflow/ranking/blob/d8c2e2e64a92923f1448cf5302c92a80bb469a20/tensorflow_ranking/python/metrics.py#L32). The user can also define a custom evaluation metric, as shown in the description below."
   ]
  },
  {
   "cell_type": "code",
   "execution_count": 0,
   "metadata": {
    "colab": {},
    "colab_type": "code",
    "id": "YkU6o2QjkyXR",
    "slideshow": {
     "slide_type": "-"
    }
   },
   "outputs": [],
   "source": [
    "def eval_metric_fns():\n",
    "  \"\"\"Returns a dict from name to metric functions.\n",
    "\n",
    "  This can be customized as follows. Care must be taken when handling padded\n",
    "  lists.\n",
    "\n",
    "  def _auc(labels, predictions, features):\n",
    "    is_label_valid = tf_reshape(tf.greater_equal(labels, 0.), [-1, 1])\n",
    "    clean_labels = tf.boolean_mask(tf.reshape(labels, [-1, 1], is_label_valid)\n",
    "    clean_pred = tf.boolean_maks(tf.reshape(predictions, [-1, 1], is_label_valid)\n",
    "    return tf.metrics.auc(clean_labels, tf.sigmoid(clean_pred), ...)\n",
    "  metric_fns[\"auc\"] = _auc\n",
    "\n",
    "  Returns:\n",
    "    A dict mapping from metric name to a metric function with above signature.\n",
    "  \"\"\"\n",
    "  metric_fns = {}\n",
    "  metric_fns.update({\n",
    "      \"metric/ndcg@%d\" % topn: tfr.metrics.make_ranking_metric_fn(\n",
    "          tfr.metrics.RankingMetricKey.NDCG, topn=topn)\n",
    "      for topn in [1, 3, 5, 10]\n",
    "  })\n",
    "\n",
    "  return metric_fns"
   ]
  },
  {
   "cell_type": "markdown",
   "metadata": {
    "colab_type": "text",
    "id": "HfDMGnZY9eVO",
    "slideshow": {
     "slide_type": "slide"
    }
   },
   "source": [
    "### Ranking Losses\n",
    "\n",
    "We provide several popular ranking loss functions as part of the library, which are shown [here](https://github.com/tensorflow/ranking/blob/d8c2e2e64a92923f1448cf5302c92a80bb469a20/tensorflow_ranking/python/losses.py#L35). The user can also define a custom loss function, similar to ones in tfr.losses."
   ]
  },
  {
   "cell_type": "code",
   "execution_count": 0,
   "metadata": {
    "colab": {},
    "colab_type": "code",
    "id": "kJSaBkxW9jZy",
    "slideshow": {
     "slide_type": "-"
    }
   },
   "outputs": [],
   "source": [
    "# Define a loss function. To find a complete list of available\n",
    "# loss functions or to learn how to add your own custom function\n",
    "# please refer to the tensorflow_ranking.losses module.\n",
    "\n",
    "_LOSS = tfr.losses.RankingLossKey.APPROX_NDCG_LOSS\n",
    "loss_fn = tfr.losses.make_loss_fn(_LOSS)"
   ]
  },
  {
   "cell_type": "markdown",
   "metadata": {
    "colab_type": "text",
    "id": "Mh8ZJy8vKYrz",
    "slideshow": {
     "slide_type": "slide"
    }
   },
   "source": [
    "The output of this function over dummy data is shown below."
   ]
  },
  {
   "cell_type": "code",
   "execution_count": 0,
   "metadata": {
    "colab": {
     "base_uri": "https://localhost:8080/",
     "height": 34
    },
    "colab_type": "code",
    "id": "fZHdtiUW8Qno",
    "outputId": "c760fca5-79ed-4337-bf62-d491f0bcf0d6",
    "slideshow": {
     "slide_type": "-"
    }
   },
   "outputs": [
    {
     "name": "stdout",
     "output_type": "stream",
     "text": [
      "Value of loss scalar is: -0.746811270714\n"
     ]
    }
   ],
   "source": [
    "dummy_loss = loss_fn(labels=label, logits=scores, features=features)\n",
    "print(\"Value of loss scalar is: {}\".format(dummy_loss.numpy()))"
   ]
  },
  {
   "cell_type": "markdown",
   "metadata": {
    "colab_type": "text",
    "id": "OUoFtZGe-pGD",
    "slideshow": {
     "slide_type": "slide"
    }
   },
   "source": [
    "### Ranking Head\n",
    "\n",
    "In the Estimator workflow, Head is an abstraction that encapsulates losses and corresponding metrics. Head easily interfaces with the Estimator, needing the user to define a scoring function and specify losses and metric computation."
   ]
  },
  {
   "cell_type": "code",
   "execution_count": 0,
   "metadata": {
    "colab": {},
    "colab_type": "code",
    "id": "3pXnzLh_-rBb",
    "slideshow": {
     "slide_type": "-"
    }
   },
   "outputs": [],
   "source": [
    "optimizer = tf.compat.v1.train.AdagradOptimizer(\n",
    "    learning_rate=_LEARNING_RATE)\n",
    "\n",
    "def _train_op_fn(loss):\n",
    "  \"\"\"Defines train op used in ranking head.\"\"\"\n",
    "  update_ops = tf.get_collection(tf.GraphKeys.UPDATE_OPS)\n",
    "  minimize_op = optimizer.minimize(\n",
    "      loss=loss, global_step=tf.compat.v1.train.get_global_step())\n",
    "  train_op = tf.group([update_ops, minimize_op])\n",
    "  return train_op\n",
    "\n",
    "ranking_head = tfr.head.create_ranking_head(\n",
    "      loss_fn=loss_fn,\n",
    "      eval_metric_fns=eval_metric_fns(),\n",
    "      train_op_fn=_train_op_fn)"
   ]
  },
  {
   "cell_type": "markdown",
   "metadata": {
    "colab_type": "text",
    "id": "SGJwvyrXk-Yj",
    "slideshow": {
     "slide_type": "slide"
    }
   },
   "source": [
    "## Putting It All Together in a Model Builder\n",
    "\n",
    "We are now ready to put all of the components above together and create an `Estimator` that can be used to train and evaluate a model."
   ]
  },
  {
   "cell_type": "code",
   "execution_count": 0,
   "metadata": {
    "colab": {},
    "colab_type": "code",
    "id": "XoR9hRWHlCR4",
    "slideshow": {
     "slide_type": "-"
    }
   },
   "outputs": [],
   "source": [
    "model_fn = tfr.model.make_groupwise_ranking_fn(\n",
    "          group_score_fn=make_score_fn(),\n",
    "          transform_fn=make_transform_fn(),\n",
    "          group_size=_GROUP_SIZE,\n",
    "          ranking_head=ranking_head)"
   ]
  },
  {
   "cell_type": "markdown",
   "metadata": {
    "colab_type": "text",
    "id": "NpCRGx9gKaZ2",
    "slideshow": {
     "slide_type": "slide"
    }
   },
   "source": [
    "The output of this function over dummy data is shown below."
   ]
  },
  {
   "cell_type": "code",
   "execution_count": 0,
   "metadata": {
    "colab": {},
    "colab_type": "code",
    "id": "wZX8K2U-6wF3",
    "slideshow": {
     "slide_type": "-"
    }
   },
   "outputs": [],
   "source": [
    "features, label = input_fn(\"/tmp/dummy_data.tfrecord\", list_size=2, batch_size=2, num_epochs=1)\n",
    "model_spec = model_fn(features=features, labels=label, mode=tf.estimator.ModeKeys.PREDICT, params=None, config=None)\n",
    "predictions = model_spec.predictions"
   ]
  },
  {
   "cell_type": "code",
   "execution_count": 0,
   "metadata": {
    "colab": {
     "base_uri": "https://localhost:8080/",
     "height": 34
    },
    "colab_type": "code",
    "id": "ztUf8IT1JTpa",
    "outputId": "a75481ee-a2fe-492c-b9c7-7ec59e1369cc",
    "slideshow": {
     "slide_type": "-"
    }
   },
   "outputs": [
    {
     "name": "stdout",
     "output_type": "stream",
     "text": [
      "Shape of predicted scores is: (2, 2).  # batch_size, list_size.\n"
     ]
    }
   ],
   "source": [
    "print(\"Shape of predicted scores is: {}.  # batch_size, list_size.\".format(predictions.shape))"
   ]
  },
  {
   "cell_type": "markdown",
   "metadata": {
    "colab_type": "text",
    "id": "7aky8RFpH-D0",
    "slideshow": {
     "slide_type": "slide"
    }
   },
   "source": [
    "### Train and evaluate the ranker"
   ]
  },
  {
   "cell_type": "code",
   "execution_count": 0,
   "metadata": {
    "colab": {},
    "colab_type": "code",
    "id": "7tD0aNuYU8LR",
    "slideshow": {
     "slide_type": "-"
    }
   },
   "outputs": [],
   "source": [
    "def train_and_eval_fn():\n",
    "  \"\"\"Train and eval function used by `tf.estimator.train_and_evaluate`.\"\"\"\n",
    "  run_config = tf.estimator.RunConfig(\n",
    "      save_checkpoints_steps=1000)\n",
    "  ranker = tf.estimator.Estimator(\n",
    "      model_fn=model_fn,\n",
    "      model_dir=_MODEL_DIR,\n",
    "      config=run_config)\n",
    "\n",
    "  train_input_fn = lambda: input_fn(_TRAIN_DATA_PATH)\n",
    "  eval_input_fn = lambda: input_fn(_TEST_DATA_PATH, num_epochs=1)\n",
    "\n",
    "  train_spec = tf.estimator.TrainSpec(\n",
    "      input_fn=train_input_fn, max_steps=_NUM_TRAIN_STEPS)\n",
    "  eval_spec =  tf.estimator.EvalSpec(\n",
    "          name=\"eval\",\n",
    "          input_fn=eval_input_fn,\n",
    "          throttle_secs=15)\n",
    "  return (ranker, train_spec, eval_spec)"
   ]
  },
  {
   "cell_type": "code",
   "execution_count": 0,
   "metadata": {
    "colab": {},
    "colab_type": "code",
    "id": "uXoA7xwuVmCD",
    "slideshow": {
     "slide_type": "-"
    }
   },
   "outputs": [],
   "source": [
    "! rm -rf \"/tmp/ranking_model_dir\"  # Clean up the model directory.\n",
    "ranker, train_spec, eval_spec = train_and_eval_fn()\n",
    "tf.estimator.train_and_evaluate(ranker, train_spec, eval_spec)"
   ]
  },
  {
   "cell_type": "markdown",
   "metadata": {
    "colab_type": "text",
    "id": "45WYaJNaGfLM",
    "slideshow": {
     "slide_type": "slide"
    }
   },
   "source": [
    "### Launch TensorBoard"
   ]
  },
  {
   "cell_type": "code",
   "execution_count": 0,
   "metadata": {
    "colab": {},
    "colab_type": "code",
    "id": "sHfuUVQ5D1jq",
    "slideshow": {
     "slide_type": "-"
    }
   },
   "outputs": [],
   "source": [
    "%load_ext tensorboard\n",
    "%tensorboard --logdir=\"/tmp/ranking_model_dir\" --port 12345"
   ]
  },
  {
   "cell_type": "markdown",
   "metadata": {
    "colab_type": "text",
    "id": "S1s1BKWSP8p_",
    "slideshow": {
     "slide_type": "-"
    }
   },
   "source": [
    "A sample tensorboard output is shown here, with the ranking metrics.\n",
    "\n",
    "![tensorboard](https://user-images.githubusercontent.com/3262617/60866646-be0edc00-a1dd-11e9-9599-eefb734ce801.png)\n"
   ]
  }
 ],
 "metadata": {
  "colab": {
   "collapsed_sections": [],
   "name": "handling_sparse_features_local.ipynb",
   "provenance": [],
   "toc_visible": true,
   "version": "0.3.2"
  },
  "kernelspec": {
   "display_name": "Python 2",
   "language": "python",
   "name": "python2"
  },
  "language_info": {
   "codemirror_mode": {
    "name": "ipython",
    "version": 3
   },
   "file_extension": ".py",
   "mimetype": "text/x-python",
   "name": "python",
   "nbconvert_exporter": "python",
   "pygments_lexer": "ipython3",
   "version": "3.6.5"
  }
 },
 "nbformat": 4,
 "nbformat_minor": 1
}
